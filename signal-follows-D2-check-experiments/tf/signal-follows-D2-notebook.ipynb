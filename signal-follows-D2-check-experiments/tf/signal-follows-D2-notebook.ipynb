{
 "cells": [
  {
   "cell_type": "markdown",
   "metadata": {},
   "source": [
    "### Experiments to demonstrate that weights evolve via D2 given signal and no noise \n",
    "A (0-layer) neural network that uses a smooth nonlinear activation like tanh and trains its weights using backpropagation will cause weights to shift by D2(z) := tanh(z)*(d/dt tanh(z)). For this analysis, we substitute changing weights with changing weights-divided-by-x-value, leaving us with only the composites.\n",
    "\n",
    "Section 1:\n",
    "- For each nonlinearity of interest, \n",
    " - For each target value y_i,\n",
    "   - For each v_i in a region of interest,\n",
    "     - Compute and display the error-signal-based gradient update that a v_i would have received."
   ]
  },
  {
   "cell_type": "code",
   "execution_count": 1,
   "metadata": {
    "scrolled": true
   },
   "outputs": [
    {
     "name": "stderr",
     "output_type": "stream",
     "text": [
      "Matplotlib created a temporary config/cache directory at /tmp/matplotlib-f043txkk because the default path (/.config/matplotlib) is not a writable directory; it is highly recommended to set the MPLCONFIGDIR environment variable to a writable directory, in particular to speed up the import of Matplotlib and to better support multiprocessing.\n"
     ]
    }
   ],
   "source": [
    "%matplotlib inline\n",
    "# ^ enables usage of matplotlib and furthermore enables displaying it in the notebook"
   ]
  },
  {
   "cell_type": "code",
   "execution_count": 2,
   "metadata": {},
   "outputs": [],
   "source": [
    "import matplotlib.pyplot as plt\n",
    "from datetime import datetime as dt\n",
    "import numpy as np\n",
    "from tensorflow.keras.callbacks import LambdaCallback\n",
    "from tensorflow.keras.models import Sequential\n",
    "from tensorflow.keras.layers import Dense\n",
    "import tensorflow as tf"
   ]
  },
  {
   "cell_type": "markdown",
   "metadata": {},
   "source": [
    "Manually create D2 and D4 of functions:"
   ]
  },
  {
   "cell_type": "code",
   "execution_count": 32,
   "metadata": {},
   "outputs": [],
   "source": [
    "def tanh(x): return (np.exp(x)-np.exp(-x))/(np.exp(x)+np.exp(-x))\n",
    "def d2_tanh(x,y=0): return -(y-tanh(x))*(1-tanh(x)**2) \n",
    "def sech(x): return 2/(np.exp(x)+np.exp(-x))\n",
    "def d4_tanh(x,y=0): return -2*sech(x)**2*tanh(x) - 6*sech(x)**4*tanh(x) + 6*sech(x)**2*tanh(x)**3\n"
   ]
  },
  {
   "cell_type": "markdown",
   "metadata": {},
   "source": [
    "Plotters convenience function:"
   ]
  },
  {
   "cell_type": "code",
   "execution_count": 33,
   "metadata": {},
   "outputs": [],
   "source": [
    "def Plot(f, vals=V_values, color=None): \n",
    "    if color==None: plt.plot(vals, [f(v) for v in vals])\n",
    "    else: plt.plot(vals, [f(v) for v in vals], color=color)"
   ]
  },
  {
   "cell_type": "markdown",
   "metadata": {},
   "source": [
    "Sanity check; plot tanh, its D2, its D4"
   ]
  },
  {
   "cell_type": "code",
   "execution_count": 35,
   "metadata": {},
   "outputs": [
    {
     "data": {
      "text/plain": [
       "[<matplotlib.lines.Line2D at 0x7fa843d1b520>]"
      ]
     },
     "execution_count": 35,
     "metadata": {},
     "output_type": "execute_result"
    },
    {
     "data": {
      "image/png": "[encoded data removed]",
      "text/plain": [
       "<Figure size 432x288 with 1 Axes>"
      ]
     },
     "metadata": {
      "needs_background": "light"
     },
     "output_type": "display_data"
    }
   ],
   "source": [
    "V_values = np.linspace(-3,3,100*(3--3)+1)\n",
    "\n",
    "Plot(tanh)\n",
    "Plot(sech)\n",
    "Plot(d2_tanh)\n",
    "Plot(d4_tanh)\n",
    "Plot(lambda x:0, color='lightgray')\n",
    "Plot(lambda x:x, color='lightgray')\n",
    "plt.plot([0,0],[-3,3], color='lightgray')"
   ]
  },
  {
   "cell_type": "markdown",
   "metadata": {},
   "source": [
    "start of Section 1. First, delimit parameters; concurrently, initialize network;"
   ]
  },
  {
   "cell_type": "code",
   "execution_count": 164,
   "metadata": {},
   "outputs": [
    {
     "data": {
      "text/plain": [
       "(array([-3.]), (601,))"
      ]
     },
     "execution_count": 164,
     "metadata": {},
     "output_type": "execute_result"
    }
   ],
   "source": [
    "# delimit parameters\n",
    "Nonlinearities = [ ('tanh',tanh) ]                  # s_counter\n",
    "Y_values = [0,-1,1]                                 # y_counter\n",
    "V_values = np.linspace(-3,3,100*(3--3)+1)           # v_counter\n",
    "X_data = [ np.ones(v.shape) for v in V_values ]     # x_counter\n",
    "\n",
    "learning_rate=1e0\n",
    "V_values[:1], V_values.shape"
   ]
  },
  {
   "cell_type": "code",
   "execution_count": 159,
   "metadata": {},
   "outputs": [
    {
     "data": {
      "text/plain": [
       "[{'name': 'dense_59',\n",
       "  'trainable': True,\n",
       "  'batch_input_shape': (None, 1),\n",
       "  'dtype': 'float32',\n",
       "  'units': 1,\n",
       "  'activation': 'tanh',\n",
       "  'use_bias': False,\n",
       "  'kernel_initializer': {'class_name': 'Zeros', 'config': {}},\n",
       "  'bias_initializer': {'class_name': 'Zeros', 'config': {}},\n",
       "  'kernel_regularizer': None,\n",
       "  'bias_regularizer': None,\n",
       "  'activity_regularizer': None,\n",
       "  'kernel_constraint': None,\n",
       "  'bias_constraint': None}]"
      ]
     },
     "execution_count": 159,
     "metadata": {},
     "output_type": "execute_result"
    }
   ],
   "source": [
    "def Set_weights(layer, weights):\n",
    "    layer.set_weights([np.expand_dims(weights,0).T])\n",
    "    \n",
    "# initialize a network whose weights we manually set\n",
    "def init_manual_model(nonlinearity, weight_value, learning_rate=0.01):\n",
    "    nonlinearity_name, nonlinearity_function=nonlinearity\n",
    "    model = Sequential()\n",
    "    model.add(\n",
    "        Dense(\n",
    "            1, # num output units\n",
    "            kernel_initializer=tf.keras.initializers.zeros(),   #  placeholder\n",
    "            input_shape=(1,),\n",
    "            activation=nonlinearity_name,\n",
    "            use_bias=False,\n",
    "        )\n",
    "    )\n",
    "    model.compile(\n",
    "        loss=tf.keras.losses.mean_squared_error,\n",
    "        optimizer=tf.keras.optimizers.SGD(learning_rate=learning_rate),\n",
    "    )\n",
    "    Set_weights(model.layers[0], weight_value)\n",
    "    return model\n",
    "test_model_init=init_manual_model(Nonlinearities[0], V_values[:1])\n",
    "# [l.get_config() for l in test_model_init.layers]\n"
   ]
  },
  {
   "cell_type": "code",
   "execution_count": 178,
   "metadata": {},
   "outputs": [
    {
     "name": "stdout",
     "output_type": "stream",
     "text": [
      "iteration 0/601done\n",
      "iteration 60/601done\n",
      "iteration 120/601done\n",
      "iteration 180/601done\n",
      "iteration 240/601done\n",
      "iteration 300/601done\n",
      "iteration 360/601done\n",
      "iteration 420/601done\n",
      "iteration 480/601done\n",
      "iteration 540/601done\n",
      "iteration 600/601done\n"
     ]
    }
   ],
   "source": [
    "def query_manual_model():\n",
    "    dev_model=init_manual_model(Nonlinearities[0], np.zeros((1,))) # tmp: only combo\n",
    "    weights_inbox = []\n",
    "    changes_inbox = []\n",
    "    weights_to_changes = []\n",
    "    \n",
    "    # counters. vi: different values of vi\n",
    "    \n",
    "    \n",
    "    \n",
    "    for v_counter in range(V_values.shape[0]):\n",
    "        Set_weights(dev_model.layers[0], V_values[v_counter:v_counter+1])\n",
    "        \n",
    "        weights_retreiver = LambdaCallback( \\\n",
    "                on_epoch_begin=lambda batch, logs: weights_inbox.append( dev_model.layers[0].get_weights()[0]))\n",
    "        changes_retriever = LambdaCallback( \n",
    "                on_epoch_end  =lambda batch, logs: changes_inbox.append( dev_model.layers[0].get_weights()[0]))        \n",
    "        dev_model.fit(\n",
    "            np.array([ X_data[0] ]),     # one datapoint for now   x_counter\n",
    "            np.array([ Y_values[0] ]),   # one datapoint for now.  y_counter\n",
    "            batch_size=1,\n",
    "            epochs=1,\n",
    "            callbacks=[weights_retreiver, changes_retriever], \n",
    "            verbose=0\n",
    "        )\n",
    "        change = changes_inbox[-1]-weights_inbox[-1]\n",
    "        weights_to_changes.append( (weights_inbox[-1][0][0], change[0][0]) )\n",
    "        if v_counter % int(V_values.shape[0]//10) == 0:\n",
    "            print('iteration '+str(v_counter)+'/'+str(V_values.shape[0])+' done')\n",
    "        #if v_counter>5: break\n",
    "#     print(weights_inbox)\n",
    "#     print()\n",
    "#     print(changes_inbox)\n",
    "#     print()\n",
    "#     print(weights_to_changes)\n",
    "    return weights_to_changes\n",
    "\n",
    "wtc=query_manual_model()"
   ]
  },
  {
   "cell_type": "code",
   "execution_count": 191,
   "metadata": {},
   "outputs": [
    {
     "data": {
      "text/plain": [
       "Text(0.5, 1.0, 'same curves!')"
      ]
     },
     "execution_count": 191,
     "metadata": {},
     "output_type": "execute_result"
    },
    {
     "data": {
      "image/png": "[encoded data removed]",
      "text/plain": [
       "<Figure size 432x288 with 1 Axes>"
      ]
     },
     "metadata": {
      "needs_background": "light"
     },
     "output_type": "display_data"
    }
   ],
   "source": [
    "plt.plot([w[0] for w in wtc], [w[1]*-50-1 for w in wtc], color=[0,0,1,0.5])\n",
    "#plt.plot(V_values, [d2_tanh(x) for x in V_values], color=[1,0,0,0.5])\n",
    "Plot(d2_tanh)\n",
    "plt.title('same curves!')"
   ]
  },
  {
   "cell_type": "code",
   "execution_count": 113,
   "metadata": {
    "collapsed": true
   },
   "outputs": [
    {
     "data": {
      "text/plain": [
       "[array([[-3.],\n",
       "        [-2.],\n",
       "        [-1.],\n",
       "        [ 0.],\n",
       "        [ 1.],\n",
       "        [ 2.],\n",
       "        [ 3.]], dtype=float32)]"
      ]
     },
     "execution_count": 113,
     "metadata": {},
     "output_type": "execute_result"
    }
   ],
   "source": [
    "x = np.array([1,2,3])\n",
    "x=np.expand_dims(x,axis=0)\n",
    "x.shape\n",
    "# //\n",
    "# sorted(dev_model.layers[0].__dir__())   prints\n",
    "dev_model.layers[0].get_weights()\n",
    "help(dev_model.fit)"
   ]
  },
  {
   "cell_type": "code",
   "execution_count": 67,
   "metadata": {
    "collapsed": true
   },
   "outputs": [
    {
     "name": "stdout",
     "output_type": "stream",
     "text": [
      "Help on class SGD in module keras.optimizer_v2.gradient_descent:\n",
      "\n",
      "class SGD(keras.optimizer_v2.optimizer_v2.OptimizerV2)\n",
      " |  SGD(learning_rate=0.01, momentum=0.0, nesterov=False, name='SGD', **kwargs)\n",
      " |  \n",
      " |  Gradient descent (with momentum) optimizer.\n",
      " |  \n",
      " |  Update rule for parameter `w` with gradient `g` when `momentum` is 0:\n",
      " |  \n",
      " |  ```python\n",
      " |  w = w - learning_rate * g\n",
      " |  ```\n",
      " |  \n",
      " |  Update rule when `momentum` is larger than 0:\n",
      " |  \n",
      " |  ```python\n",
      " |  velocity = momentum * velocity - learning_rate * g\n",
      " |  w = w + velocity\n",
      " |  ```\n",
      " |  \n",
      " |  When `nesterov=True`, this rule becomes:\n",
      " |  \n",
      " |  ```python\n",
      " |  velocity = momentum * velocity - learning_rate * g\n",
      " |  w = w + momentum * velocity - learning_rate * g\n",
      " |  ```\n",
      " |  \n",
      " |  Args:\n",
      " |    learning_rate: A `Tensor`, floating point value, or a schedule that is a\n",
      " |      `tf.keras.optimizers.schedules.LearningRateSchedule`, or a callable\n",
      " |      that takes no arguments and returns the actual value to use. The\n",
      " |      learning rate. Defaults to 0.01.\n",
      " |    momentum: float hyperparameter >= 0 that accelerates gradient descent\n",
      " |      in the relevant\n",
      " |      direction and dampens oscillations. Defaults to 0, i.e., vanilla gradient\n",
      " |      descent.\n",
      " |    nesterov: boolean. Whether to apply Nesterov momentum.\n",
      " |      Defaults to `False`.\n",
      " |    name: Optional name prefix for the operations created when applying\n",
      " |      gradients.  Defaults to `\"SGD\"`.\n",
      " |    **kwargs: Keyword arguments. Allowed to be one of\n",
      " |      `\"clipnorm\"` or `\"clipvalue\"`.\n",
      " |      `\"clipnorm\"` (float) clips gradients by norm; `\"clipvalue\"` (float) clips\n",
      " |      gradients by value.\n",
      " |  \n",
      " |  Usage:\n",
      " |  \n",
      " |  >>> opt = tf.keras.optimizers.SGD(learning_rate=0.1)\n",
      " |  >>> var = tf.Variable(1.0)\n",
      " |  >>> loss = lambda: (var ** 2)/2.0         # d(loss)/d(var1) = var1\n",
      " |  >>> step_count = opt.minimize(loss, [var]).numpy()\n",
      " |  >>> # Step is `- learning_rate * grad`\n",
      " |  >>> var.numpy()\n",
      " |  0.9\n",
      " |  \n",
      " |  >>> opt = tf.keras.optimizers.SGD(learning_rate=0.1, momentum=0.9)\n",
      " |  >>> var = tf.Variable(1.0)\n",
      " |  >>> val0 = var.value()\n",
      " |  >>> loss = lambda: (var ** 2)/2.0         # d(loss)/d(var1) = var1\n",
      " |  >>> # First step is `- learning_rate * grad`\n",
      " |  >>> step_count = opt.minimize(loss, [var]).numpy()\n",
      " |  >>> val1 = var.value()\n",
      " |  >>> (val0 - val1).numpy()\n",
      " |  0.1\n",
      " |  >>> # On later steps, step-size increases because of momentum\n",
      " |  >>> step_count = opt.minimize(loss, [var]).numpy()\n",
      " |  >>> val2 = var.value()\n",
      " |  >>> (val1 - val2).numpy()\n",
      " |  0.18\n",
      " |  \n",
      " |  Reference:\n",
      " |      - For `nesterov=True`, See [Sutskever et al., 2013](\n",
      " |        http://jmlr.org/proceedings/papers/v28/sutskever13.pdf).\n",
      " |  \n",
      " |  Method resolution order:\n",
      " |      SGD\n",
      " |      keras.optimizer_v2.optimizer_v2.OptimizerV2\n",
      " |      tensorflow.python.training.tracking.base.Trackable\n",
      " |      builtins.object\n",
      " |  \n",
      " |  Methods defined here:\n",
      " |  \n",
      " |  __init__(self, learning_rate=0.01, momentum=0.0, nesterov=False, name='SGD', **kwargs)\n",
      " |      Create a new Optimizer.\n",
      " |      \n",
      " |      This must be called by the constructors of subclasses.\n",
      " |      Note that Optimizer instances should not bind to a single graph,\n",
      " |      and so shouldn't keep Tensors as member variables. Generally\n",
      " |      you should be able to use the _set_hyper()/state.get_hyper()\n",
      " |      facility instead.\n",
      " |      \n",
      " |      This class is stateful and thread-compatible.\n",
      " |      \n",
      " |      Example of custom gradient transformations:\n",
      " |      \n",
      " |      ```python\n",
      " |      def my_gradient_transformer(grads_and_vars):\n",
      " |        # Simple example, double the gradients.\n",
      " |        return [(2. * g, v) for g, v in grads_and_vars]\n",
      " |      \n",
      " |      optimizer = tf.keras.optimizers.SGD(\n",
      " |          1e-3, gradient_transformers=[my_gradient_transformer])\n",
      " |      ```\n",
      " |      \n",
      " |      Args:\n",
      " |        name: String. The name to use for momentum accumulator weights created\n",
      " |          by the optimizer.\n",
      " |        gradient_aggregator: The function to use to aggregate gradients across\n",
      " |          devices (when using `tf.distribute.Strategy`). If `None`, defaults to\n",
      " |          summing the gradients across devices. The function should accept and\n",
      " |          return a list of `(gradient, variable)` tuples.\n",
      " |        gradient_transformers: Optional. List of functions to use to transform\n",
      " |          gradients before applying updates to Variables. The functions are\n",
      " |          applied after `gradient_aggregator`. The functions should accept and\n",
      " |          return a list of `(gradient, variable)` tuples.\n",
      " |        **kwargs: keyword arguments. Allowed arguments are `clipvalue`,\n",
      " |          `clipnorm`, `global_clipnorm`.\n",
      " |          If `clipvalue` (float) is set, the gradient of each weight\n",
      " |          is clipped to be no higher than this value.\n",
      " |          If `clipnorm` (float) is set, the gradient of each weight\n",
      " |          is individually clipped so that its norm is no higher than this value.\n",
      " |          If `global_clipnorm` (float) is set the gradient of all weights is\n",
      " |          clipped so that their global norm is no higher than this value.\n",
      " |      \n",
      " |      Raises:\n",
      " |        ValueError: in case of any invalid argument.\n",
      " |  \n",
      " |  get_config(self)\n",
      " |      Returns the config of the optimizer.\n",
      " |      \n",
      " |      An optimizer config is a Python dictionary (serializable)\n",
      " |      containing the configuration of an optimizer.\n",
      " |      The same optimizer can be reinstantiated later\n",
      " |      (without any saved state) from this configuration.\n",
      " |      \n",
      " |      Returns:\n",
      " |          Python dictionary.\n",
      " |  \n",
      " |  ----------------------------------------------------------------------\n",
      " |  Methods inherited from keras.optimizer_v2.optimizer_v2.OptimizerV2:\n",
      " |  \n",
      " |  __dir__(self)\n",
      " |      Default dir() implementation.\n",
      " |  \n",
      " |  __getattribute__(self, name)\n",
      " |      Overridden to support hyperparameter access.\n",
      " |  \n",
      " |  __setattr__(self, name, value)\n",
      " |      Override setattr to support dynamic hyperparameter setting.\n",
      " |  \n",
      " |  add_slot(self, var, slot_name, initializer='zeros', shape=None)\n",
      " |      Add a new slot variable for `var`.\n",
      " |      \n",
      " |      A slot variable is an additional variable associated with `var` to train.\n",
      " |      It is allocated and managed by optimizers, e.g. `Adam`.\n",
      " |      \n",
      " |      Args:\n",
      " |        var: a `Variable` object.\n",
      " |        slot_name: name of the slot variable.\n",
      " |        initializer: initializer of the slot variable\n",
      " |        shape: (Optional) shape of the slot variable. If not set, it will default\n",
      " |        to the shape of `var`.\n",
      " |      \n",
      " |      Returns:\n",
      " |        A slot variable.\n",
      " |  \n",
      " |  add_weight(self, name, shape, dtype=None, initializer='zeros', trainable=None, synchronization=<VariableSynchronization.AUTO: 0>, aggregation=<VariableAggregationV2.NONE: 0>)\n",
      " |  \n",
      " |  apply_gradients(self, grads_and_vars, name=None, experimental_aggregate_gradients=True)\n",
      " |      Apply gradients to variables.\n",
      " |      \n",
      " |      This is the second part of `minimize()`. It returns an `Operation` that\n",
      " |      applies gradients.\n",
      " |      \n",
      " |      The method sums gradients from all replicas in the presence of\n",
      " |      `tf.distribute.Strategy` by default. You can aggregate gradients yourself by\n",
      " |      passing `experimental_aggregate_gradients=False`.\n",
      " |      \n",
      " |      Example:\n",
      " |      \n",
      " |      ```python\n",
      " |      grads = tape.gradient(loss, vars)\n",
      " |      grads = tf.distribute.get_replica_context().all_reduce('sum', grads)\n",
      " |      # Processing aggregated gradients.\n",
      " |      optimizer.apply_gradients(zip(grads, vars),\n",
      " |          experimental_aggregate_gradients=False)\n",
      " |      \n",
      " |      ```\n",
      " |      \n",
      " |      Args:\n",
      " |        grads_and_vars: List of (gradient, variable) pairs.\n",
      " |        name: Optional name for the returned operation. Default to the name passed\n",
      " |          to the `Optimizer` constructor.\n",
      " |        experimental_aggregate_gradients: Whether to sum gradients from different\n",
      " |          replicas in the presence of `tf.distribute.Strategy`. If False, it's\n",
      " |          user responsibility to aggregate the gradients. Default to True.\n",
      " |      \n",
      " |      Returns:\n",
      " |        An `Operation` that applies the specified gradients. The `iterations`\n",
      " |        will be automatically increased by 1.\n",
      " |      \n",
      " |      Raises:\n",
      " |        TypeError: If `grads_and_vars` is malformed.\n",
      " |        ValueError: If none of the variables have gradients.\n",
      " |        RuntimeError: If called in a cross-replica context.\n",
      " |  \n",
      " |  get_gradients(self, loss, params)\n",
      " |      Returns gradients of `loss` with respect to `params`.\n",
      " |      \n",
      " |      Should be used only in legacy v1 graph mode.\n",
      " |      \n",
      " |      Args:\n",
      " |        loss: Loss tensor.\n",
      " |        params: List of variables.\n",
      " |      \n",
      " |      Returns:\n",
      " |        List of gradient tensors.\n",
      " |      \n",
      " |      Raises:\n",
      " |        ValueError: In case any gradient cannot be computed (e.g. if gradient\n",
      " |          function not implemented).\n",
      " |  \n",
      " |  get_slot(self, var, slot_name)\n",
      " |  \n",
      " |  get_slot_names(self)\n",
      " |      A list of names for this optimizer's slots.\n",
      " |  \n",
      " |  get_updates(self, loss, params)\n",
      " |  \n",
      " |  get_weights(self)\n",
      " |      Returns the current weights of the optimizer.\n",
      " |      \n",
      " |      The weights of an optimizer are its state (ie, variables).\n",
      " |      This function returns the weight values associated with this\n",
      " |      optimizer as a list of Numpy arrays. The first value is always the\n",
      " |      iterations count of the optimizer, followed by the optimizer's state\n",
      " |      variables in the order they were created. The returned list can in turn\n",
      " |      be used to load state into similarly parameterized optimizers.\n",
      " |      \n",
      " |      For example, the RMSprop optimizer for this simple model returns a list of\n",
      " |      three values-- the iteration count, followed by the root-mean-square value\n",
      " |      of the kernel and bias of the single Dense layer:\n",
      " |      \n",
      " |      >>> opt = tf.keras.optimizers.RMSprop()\n",
      " |      >>> m = tf.keras.models.Sequential([tf.keras.layers.Dense(10)])\n",
      " |      >>> m.compile(opt, loss='mse')\n",
      " |      >>> data = np.arange(100).reshape(5, 20)\n",
      " |      >>> labels = np.zeros(5)\n",
      " |      >>> print('Training'); results = m.fit(data, labels)\n",
      " |      Training ...\n",
      " |      >>> len(opt.get_weights())\n",
      " |      3\n",
      " |      \n",
      " |      Returns:\n",
      " |          Weights values as a list of numpy arrays.\n",
      " |  \n",
      " |  minimize(self, loss, var_list, grad_loss=None, name=None, tape=None)\n",
      " |      Minimize `loss` by updating `var_list`.\n",
      " |      \n",
      " |      This method simply computes gradient using `tf.GradientTape` and calls\n",
      " |      `apply_gradients()`. If you want to process the gradient before applying\n",
      " |      then call `tf.GradientTape` and `apply_gradients()` explicitly instead\n",
      " |      of using this function.\n",
      " |      \n",
      " |      Args:\n",
      " |        loss: `Tensor` or callable. If a callable, `loss` should take no arguments\n",
      " |          and return the value to minimize. If a `Tensor`, the `tape` argument\n",
      " |          must be passed.\n",
      " |        var_list: list or tuple of `Variable` objects to update to minimize\n",
      " |          `loss`, or a callable returning the list or tuple of `Variable` objects.\n",
      " |          Use callable when the variable list would otherwise be incomplete before\n",
      " |          `minimize` since the variables are created at the first time `loss` is\n",
      " |          called.\n",
      " |        grad_loss: (Optional). A `Tensor` holding the gradient computed for\n",
      " |          `loss`.\n",
      " |        name: (Optional) str. Name for the returned operation.\n",
      " |        tape: (Optional) `tf.GradientTape`. If `loss` is provided as a `Tensor`,\n",
      " |          the tape that computed the `loss` must be provided.\n",
      " |      \n",
      " |      Returns:\n",
      " |        An `Operation` that updates the variables in `var_list`. The `iterations`\n",
      " |        will be automatically increased by 1.\n",
      " |      \n",
      " |      Raises:\n",
      " |        ValueError: If some of the variables are not `Variable` objects.\n",
      " |  \n",
      " |  set_weights(self, weights)\n",
      " |      Set the weights of the optimizer.\n",
      " |      \n",
      " |      The weights of an optimizer are its state (ie, variables).\n",
      " |      This function takes the weight values associated with this\n",
      " |      optimizer as a list of Numpy arrays. The first value is always the\n",
      " |      iterations count of the optimizer, followed by the optimizer's state\n",
      " |      variables in the order they are created. The passed values are used to set\n",
      " |      the new state of the optimizer.\n",
      " |      \n",
      " |      For example, the RMSprop optimizer for this simple model takes a list of\n",
      " |      three values-- the iteration count, followed by the root-mean-square value\n",
      " |      of the kernel and bias of the single Dense layer:\n",
      " |      \n",
      " |      >>> opt = tf.keras.optimizers.RMSprop()\n",
      " |      >>> m = tf.keras.models.Sequential([tf.keras.layers.Dense(10)])\n",
      " |      >>> m.compile(opt, loss='mse')\n",
      " |      >>> data = np.arange(100).reshape(5, 20)\n",
      " |      >>> labels = np.zeros(5)\n",
      " |      >>> print('Training'); results = m.fit(data, labels)\n",
      " |      Training ...\n",
      " |      >>> new_weights = [np.array(10), np.ones([20, 10]), np.zeros([10])]\n",
      " |      >>> opt.set_weights(new_weights)\n",
      " |      >>> opt.iterations\n",
      " |      <tf.Variable 'RMSprop/iter:0' shape=() dtype=int64, numpy=10>\n",
      " |      \n",
      " |      Args:\n",
      " |          weights: weight values as a list of numpy arrays.\n",
      " |  \n",
      " |  variables(self)\n",
      " |      Returns variables of this Optimizer based on the order created.\n",
      " |  \n",
      " |  ----------------------------------------------------------------------\n",
      " |  Class methods inherited from keras.optimizer_v2.optimizer_v2.OptimizerV2:\n",
      " |  \n",
      " |  from_config(config, custom_objects=None) from builtins.type\n",
      " |      Creates an optimizer from its config.\n",
      " |      \n",
      " |      This method is the reverse of `get_config`,\n",
      " |      capable of instantiating the same optimizer from the config\n",
      " |      dictionary.\n",
      " |      \n",
      " |      Args:\n",
      " |          config: A Python dictionary, typically the output of get_config.\n",
      " |          custom_objects: A Python dictionary mapping names to additional Python\n",
      " |            objects used to create this optimizer, such as a function used for a\n",
      " |            hyperparameter.\n",
      " |      \n",
      " |      Returns:\n",
      " |          An optimizer instance.\n",
      " |  \n",
      " |  ----------------------------------------------------------------------\n",
      " |  Readonly properties inherited from keras.optimizer_v2.optimizer_v2.OptimizerV2:\n",
      " |  \n",
      " |  weights\n",
      " |      Returns variables of this Optimizer based on the order created.\n",
      " |  \n",
      " |  ----------------------------------------------------------------------\n",
      " |  Data descriptors inherited from keras.optimizer_v2.optimizer_v2.OptimizerV2:\n",
      " |  \n",
      " |  clipnorm\n",
      " |      `float` or `None`. If set, clips gradients to a maximum norm.\n",
      " |  \n",
      " |  clipvalue\n",
      " |      `float` or `None`. If set, clips gradients to a maximum value.\n",
      " |  \n",
      " |  global_clipnorm\n",
      " |      `float` or `None`. If set, clips gradients to a maximum norm.\n",
      " |  \n",
      " |  iterations\n",
      " |      Variable. The number of training steps this Optimizer has run.\n",
      " |  \n",
      " |  ----------------------------------------------------------------------\n",
      " |  Data descriptors inherited from tensorflow.python.training.tracking.base.Trackable:\n",
      " |  \n",
      " |  __dict__\n",
      " |      dictionary for instance variables (if defined)\n",
      " |  \n",
      " |  __weakref__\n",
      " |      list of weak references to the object (if defined)\n",
      "\n"
     ]
    }
   ],
   "source": [
    "#tf.keras.initializers.__dir__()\n",
    "# help(tf.keras.initializers.zeros)\n",
    "help(tf.optimizers.SGD)"
   ]
  },
  {
   "cell_type": "code",
   "execution_count": 14,
   "metadata": {},
   "outputs": [
    {
     "name": "stdout",
     "output_type": "stream",
     "text": [
      "07_11-22_19_13\n"
     ]
    }
   ],
   "source": [
    "savefig_utf_timestamp=dt.now().strftime('%m_%d-%H_%M_%S')\n",
    "print(savefig_utf_timestamp)\n",
    "#plt.savefig('figures/fig_'+savefig_utf_timestamp)\n",
    "plt.show()"
   ]
  }
 ],
 "metadata": {
  "kernelspec": {
   "display_name": "Python 3",
   "language": "python",
   "name": "python3"
  },
  "language_info": {
   "codemirror_mode": {
    "name": "ipython",
    "version": 3
   },
   "file_extension": ".py",
   "mimetype": "text/x-python",
   "name": "python",
   "nbconvert_exporter": "python",
   "pygments_lexer": "ipython3",
   "version": "3.8.10"
  }
 },
 "nbformat": 4,
 "nbformat_minor": 2
}
